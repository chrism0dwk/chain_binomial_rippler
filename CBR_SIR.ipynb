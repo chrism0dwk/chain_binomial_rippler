{
 "cells": [
  {
   "cell_type": "code",
   "execution_count": 1,
   "id": "8472c633-cfad-4794-9189-4f805389290e",
   "metadata": {
    "tags": [
     "hide-input"
    ]
   },
   "outputs": [],
   "source": [
    "%load_ext autoreload\n",
    "%autoreload 2\n",
    "%matplotlib inline\n",
    "\n",
    "from collections import namedtuple\n",
    "\n",
    "from time import perf_counter\n",
    "import numpy as np\n",
    "import matplotlib.pyplot as plt\n",
    "from IPython.display import HTML\n",
    "from pprint import pprint\n",
    "\n",
    "import tensorflow as tf\n",
    "import tensorflow_probability as tfp\n",
    "\n",
    "from gemlib.util import compute_state\n",
    "from gemlib.distributions import DiscreteTimeStateTransitionModel\n",
    "from gemlib.distributions import UniformInteger\n",
    "from gemlib.distributions import UniformKCategorical\n",
    "\n",
    "tfd = tfp.distributions"
   ]
  },
  {
   "cell_type": "markdown",
   "id": "17598c10-a0be-44c0-b8e1-910bb94a3eab",
   "metadata": {},
   "source": [
    "## Discrete-time general stochastic SIR epidemic model\n",
    "\n",
    "In the discrete-time General Stochastic Epidemic model (GSE), we assume individuals transition from Susceptible to Infectious to Removed.  Let the numbers of Susceptible, Infectious, and Removed individuals at time $t$ be denoted by $S_t$, $I_t$, and $R_t$ respectively, and that $S_t + I_t + R_t = N$ the total population size.\n",
    "\n",
    "We assume that at time $t$, each Susceptible individual experiences _infectious pressure_\n",
    "$$\n",
    "\\lambda_t = \\beta I_t / N\n",
    "$$\n",
    "equal to the rate at which each individual transitions to the $I$ state.  Similarly, each Infected individual transitions to the $R$ state at rate $\\gamma$ constant with time.\n",
    "\n",
    "Given a population of size $N=1000$, an infection rate $\\beta=0.3$, removal rate of $\\gamma=0.14$, and with one initial infected individual, the chain binomial model evolves the system over $T_{max}=70$ discrete time steps of size $\\Delta t$ according to the following algorithm:\n",
    "\n",
    "0. Initialise $t=0$, $S_t=999$, $I_t=1$, $R_t=0$\n",
    "1. Draw $$I^\\star \\sim \\mbox{Binomial}(S_t, 1 - e^{-\\lambda_t Δt}) \\\\ R^\\star \\sim \\mbox{Binomial}(I_t, 1 - e^{-\\gamma \\Delta t})$$\n",
    "2. Update $$S_{t+1} = S_t - I^\\star \\\\ I_{t+1} = I_t + I^\\star - R^\\star \\\\ R_{t+1} = R_t + R^\\star$$\n",
    "3. Goto 1 while $t < T_{max}$\n",
    "\n",
    "We implement this below using `gemlib`'s `DiscreteTimeStateTransitionModel`:"
   ]
  },
  {
   "cell_type": "code",
   "execution_count": 2,
   "id": "40449ae0-cce1-41b4-832e-2dfb87be0909",
   "metadata": {},
   "outputs": [
    {
     "name": "stderr",
     "output_type": "stream",
     "text": [
      "2022-01-26 15:10:45.067346: I tensorflow/stream_executor/cuda/cuda_gpu_executor.cc:939] successful NUMA node read from SysFS had negative value (-1), but there must be at least one NUMA node, so returning NUMA node zero\n",
      "2022-01-26 15:10:45.077604: I tensorflow/stream_executor/cuda/cuda_gpu_executor.cc:939] successful NUMA node read from SysFS had negative value (-1), but there must be at least one NUMA node, so returning NUMA node zero\n",
      "2022-01-26 15:10:45.077931: I tensorflow/stream_executor/cuda/cuda_gpu_executor.cc:939] successful NUMA node read from SysFS had negative value (-1), but there must be at least one NUMA node, so returning NUMA node zero\n",
      "2022-01-26 15:10:45.078612: I tensorflow/core/platform/cpu_feature_guard.cc:151] This TensorFlow binary is optimized with oneAPI Deep Neural Network Library (oneDNN) to use the following CPU instructions in performance-critical operations:  AVX2 FMA\n",
      "To enable them in other operations, rebuild TensorFlow with the appropriate compiler flags.\n",
      "2022-01-26 15:10:45.079073: I tensorflow/stream_executor/cuda/cuda_gpu_executor.cc:939] successful NUMA node read from SysFS had negative value (-1), but there must be at least one NUMA node, so returning NUMA node zero\n",
      "2022-01-26 15:10:45.079475: I tensorflow/stream_executor/cuda/cuda_gpu_executor.cc:939] successful NUMA node read from SysFS had negative value (-1), but there must be at least one NUMA node, so returning NUMA node zero\n",
      "2022-01-26 15:10:45.079859: I tensorflow/stream_executor/cuda/cuda_gpu_executor.cc:939] successful NUMA node read from SysFS had negative value (-1), but there must be at least one NUMA node, so returning NUMA node zero\n",
      "2022-01-26 15:10:45.624724: I tensorflow/stream_executor/cuda/cuda_gpu_executor.cc:939] successful NUMA node read from SysFS had negative value (-1), but there must be at least one NUMA node, so returning NUMA node zero\n",
      "2022-01-26 15:10:45.625120: I tensorflow/stream_executor/cuda/cuda_gpu_executor.cc:939] successful NUMA node read from SysFS had negative value (-1), but there must be at least one NUMA node, so returning NUMA node zero\n",
      "2022-01-26 15:10:45.625441: I tensorflow/stream_executor/cuda/cuda_gpu_executor.cc:939] successful NUMA node read from SysFS had negative value (-1), but there must be at least one NUMA node, so returning NUMA node zero\n",
      "2022-01-26 15:10:45.625725: I tensorflow/core/common_runtime/gpu/gpu_device.cc:1525] Created device /job:localhost/replica:0/task:0/device:GPU:0 with 2639 MB memory:  -> device: 0, name: NVIDIA GeForce GTX 1650, pci bus id: 0000:01:00.0, compute capability: 7.5\n"
     ]
    }
   ],
   "source": [
    "stoichiometry = np.array([[-1, 1, 0],\n",
    "                          [0, -1, 1]],\n",
    "                         dtype=np.float32)\n",
    "init_state = np.array([[999.0, 1.0, 0.0],\n",
    "                       [1000.0, 0.0, 0.0]], dtype=np.float32)\n",
    "\n",
    "C = np.array([[0, 1],[1, 0]], dtype=np.float32)\n",
    "\n",
    "def hazard_fn(t, state):\n",
    "    si = (0.3 * state[..., 1] + 0.8 * tf.linalg.matvec(C, state[..., 1]/1000.0)) / tf.reduce_sum(state, axis=-1)\n",
    "    ir = tf.broadcast_to(tf.constant([0.14]), si.shape)\n",
    "    return [si, ir]\n",
    "\n",
    "model = DiscreteTimeStateTransitionModel(transition_rates=hazard_fn, \n",
    "                                         initial_state=init_state, \n",
    "                                         initial_step=0,\n",
    "                                         time_delta=1.0,\n",
    "                                         num_steps=70,\n",
    "                                         stoichiometry=stoichiometry)"
   ]
  },
  {
   "cell_type": "markdown",
   "id": "edb93493-e13e-4320-b848-f7ba33eea32c",
   "metadata": {},
   "source": [
    "## Sampling from the GSE model\n",
    "\n",
    "We can draw a sample from our GSE epidemic model, and graph the resulting epidemic trajectory.  \n",
    "\n",
    "The `model.sample()` method returns an _event list_, i.e. a tensor of shape `[M, T, R]` for $M=1$ sub-population, $T=70$ timesteps, and $R=2$ transitions. The number of timesteps is deliberately kept short, to ensure that the epidemic is \"incomplete\" -- i.e. the epidemic is not over. \n",
    "\n",
    "Given the event list, we then use `compute_state` to re-construct the _state timeseries_ $X_t = \\{S_t$, $I_t$, $R_t\\}$ for $t=0,\\dots,69$ given $S_0, I_0, R_0$."
   ]
  },
  {
   "cell_type": "code",
   "execution_count": 3,
   "id": "cab52ae1-0f4e-4ef9-bfef-26fc8066f71d",
   "metadata": {},
   "outputs": [
    {
     "data": {
      "text/plain": [
       "<matplotlib.legend.Legend at 0x7f2c9b2dc8e0>"
      ]
     },
     "execution_count": 3,
     "metadata": {},
     "output_type": "execute_result"
    },
    {
     "data": {
      "image/png": "[encoded data removed]",
      "text/plain": [
       "<Figure size 432x288 with 1 Axes>"
      ]
     },
     "metadata": {
      "needs_background": "light"
     },
     "output_type": "display_data"
    }
   ],
   "source": [
    "# Ensure we get an outbreak that takes off, as many stochastic\n",
    "# epidemics will fade out in the first few timesteps.\n",
    "while True:  \n",
    "    events = model.sample()\n",
    "    if tf.reduce_sum(events[...,1]) > 10:\n",
    "        break\n",
    "        \n",
    "state = compute_state(initial_state=init_state, events=events, stoichiometry=stoichiometry)\n",
    "\n",
    "plt.plot(state[...,0].numpy().T, label=\"S\")\n",
    "plt.plot(state[...,1].numpy().T, label=\"I\")\n",
    "plt.plot(state[...,2].numpy().T, label=\"R\")\n",
    "plt.legend()"
   ]
  },
  {
   "cell_type": "markdown",
   "id": "3f537e42-d50b-48df-b965-b38d847f4c1e",
   "metadata": {},
   "source": [
    "# An observation model\n",
    "\n",
    "Let us assume that in the real world we observe a proportion of $I->R$ transitions, being synonymous with an individual's infection being detected and them put into isolation.\n",
    "\n",
    "Let $z^r_t$ be the number of removal events on day $t$, such that the observed number of new cases is\n",
    "$$y_t \\sim \\mbox{Binomial}(z^r_t, q_t)$$\n",
    "and $q=0.5$ the detection probability (e.g. sensitivity of a test, or reporting rate)."
   ]
  },
  {
   "cell_type": "code",
   "execution_count": 4,
   "id": "30ece2d7-2e72-4698-a39d-e8b2be3987c3",
   "metadata": {
    "tags": []
   },
   "outputs": [],
   "source": [
    "observation_process = tfd.Independent(\n",
    "    distribution=tfd.Binomial(total_count=events[...,1],\n",
    "                              probs=0.5),\n",
    "    reinterpreted_batch_ndims=1\n",
    ") # MxT\n",
    "\n",
    "observed_cases = observation_process.sample()"
   ]
  },
  {
   "cell_type": "markdown",
   "id": "31f1941a-80c8-486d-b6fa-3bed2cb32cce",
   "metadata": {},
   "source": [
    "# The Chain Binomial Rippler\n",
    "\n",
    "In a situation like SARS-CoV-2, where models are required to produce real-time short-term projections of the epidemic, we wish to train the above model to historically observed data to estimate $\\beta$, $\\gamma$, and possibly $q$ and $S_0, I_0, R_0$.\n",
    "\n",
    "Writing the number of $S\\rightarrow I$ and $I\\rightarrow R$ events each day as $\\mathbf{z}$, we notice that $\\mathbf{z}$ is censored -- we do not directly observe the number of state transitions happening per day.  In this case, the posterior distribution of the parameters is\n",
    "$$\n",
    "\\pi(\\beta, \\gamma, q | \\mathbf{y}, X_0) = \\int_{Z} f(\\mathbf{y} | \\mathbf{z}, q) f(\\mathbf{z} | \\beta, \\gamma, X_0)f(\\beta)f(\\gamma) \\mathrm{d}\\mathbf{z}.\n",
    "$$\n",
    "\n",
    "In practice, this integral is impossible to solve analytically due to the high dimension of $\\mathbf{z}$ and therefore the size of its associated probability space.  We need, therefore, an MCMC scheme that explores the space of $\\mathbf{z}$ efficiently in order to estimate the posterior distribution accurately.\n",
    "\n",
    "In our current work, we update $\\mathbf{z}$ (i.e. `events` above) using component-wise updates of elements $z_{mtr}$ sequentially for sub-population $m$, timepoint $t$, and transition $r$.  However, since components of $\\mathbf{z}$ are highly dependent given the model, the sequential approach is able to perturb each $mtr$ element by only a small amount.  To move $\\mathbf{z}$ a large distance in space, many sequential updates are required, leading to a slowly mixing MCMC chain. \n",
    "\n",
    "In the CBR (__chain binomial rippler__) algorithm, we take a different approach, in which whole sections of the (multidimensional for $m>1$) timeseries of events are updated at once.  Following an initial perturbation of events at a chosen timepoint in $[0, T)$, we re-construct the event timeseries that would have happened given our original model subsequent to $t^\\star$.  \n",
    "\n",
    "As shown in Algorithm 1 of the [draft paper](https://www.overleaf.com/read/gwxpkpwhxzmk), the algorithm iterates across $[t^\\star+1, T)$, re-sampling from either Binomial or Hypergeometric distributions according to the differences between the original trajectory and the perturbed one.\n",
    "\n",
    "### Implementation\n",
    "\n",
    "In the file `chain_binomial_rippler.py`, the CBR implementation is divided into 3 main functions:\n",
    "\n",
    "* `_dispatch_update` operates on an atomic timepoint/subpopulation/transition combination;\n",
    "* `chain_binomial_rippler` the top level function that loops over the timepoints, subpopulation and transitions; \n",
    "* `_initial_ripple` which kicks off the perturbation by sampling $t^\\star$ and a resampled $z^\\star_{t^\\star}$.\n",
    "\n",
    "__Issue__: The question is how to optimise `_dispatch_update` since currently calls to `tf.switch` provide \n",
    "no possibility of vectorising the loops in `chain_binomial_rippler`."
   ]
  },
  {
   "cell_type": "markdown",
   "id": "fda3f953-e206-46d9-adad-a647c7160e72",
   "metadata": {},
   "source": [
    "### An example run"
   ]
  },
  {
   "cell_type": "code",
   "execution_count": 5,
   "id": "37f5bb29-1170-4812-85a8-e5c940f8a7a3",
   "metadata": {},
   "outputs": [
    {
     "name": "stdout",
     "output_type": "stream",
     "text": [
      "proposed_pop_idxtransition_rates: Tensor(\"UniformInteger_2_1/sample/Reshape:0\", shape=(), dtype=int32)\n",
      "proposed_time_idx: Tensor(\"UniformInteger_1/sample/Reshape:0\", shape=(), dtype=int32)\n",
      "Prob_t: Tensor(\"sub:0\", shape=(), dtype=float32)\n",
      "new_si_events_t: Tensor(\"Binomial_1/sample/Reshape:0\", shape=(), dtype=float32)\n",
      "WARNING:tensorflow:Using a while_loop for converting StatelessRandomGetKeyCounter\n",
      "WARNING:tensorflow:Using a while_loop for converting StatelessRandomUniformFullIntV2\n",
      "WARNING:tensorflow:Using a while_loop for converting StatelessCase\n",
      "WARNING:tensorflow:Using a while_loop for converting StatelessCase\n"
     ]
    },
    {
     "data": {
      "image/png": "[encoded data removed]",
      "text/plain": [
       "<Figure size 576x288 with 2 Axes>"
      ]
     },
     "metadata": {
      "needs_background": "light"
     },
     "output_type": "display_data"
    }
   ],
   "source": [
    "from chain_binomial_rippler import chain_binomial_rippler\n",
    "\n",
    "while True:\n",
    "    new_events, info = tf.function(lambda: chain_binomial_rippler(model, events))()\n",
    "    if tf.reduce_any(new_events != events):  # Ensure we sample a different trajectory\n",
    "        break\n",
    "        \n",
    "new_state = compute_state(initial_state=init_state, events=new_events, stoichiometry=model.stoichiometry)\n",
    "\n",
    "fig, ax = plt.subplots(1, 2, figsize=[8, 4])\n",
    "ax[0].plot(state[...,0].numpy().T, color='C0', label='S original')\n",
    "ax[0].plot(state[...,1].numpy().T, color='C1', label='I original')\n",
    "ax[0].plot(state[...,2].numpy().T, color='C2', label='R original')\n",
    "ax[0].plot(new_state[...,0].numpy().T, '--', color='C0', label='S new')\n",
    "ax[0].plot(new_state[...,1].numpy().T, '--', color='C1', label='I new')\n",
    "ax[0].plot(new_state[...,2].numpy().T, '--', color='C2', label='R new')\n",
    "lower = np.clip(info['timepoint'] - 5, 0, None)\n",
    "upper = np.clip(lower + 10, None, state.shape[-2])\n",
    "ax[1].plot(range(lower, upper), state[:, lower:upper, 1].numpy().T, color='C1')\n",
    "ax[1].plot(range(lower, upper), new_state[:, lower:upper, 1].numpy().T, '--', color='C1')\n",
    "_ = plt.title(f\"Timepoint: {info['timepoint']}, delta: {info['delta']}\")"
   ]
  },
  {
   "cell_type": "code",
   "execution_count": 6,
   "id": "e58207e9-9806-43ac-a78a-8757af431ab7",
   "metadata": {},
   "outputs": [
    {
     "data": {
      "text/plain": [
       "<tf.Tensor: shape=(2, 2), dtype=int32, numpy=\n",
       "array([[0, 0],\n",
       "       [1, 0]], dtype=int32)>"
      ]
     },
     "execution_count": 6,
     "metadata": {},
     "output_type": "execute_result"
    }
   ],
   "source": [
    "tf.stack([tf.range(2), tf.zeros(2, dtype=tf.int32)], axis=-1)"
   ]
  },
  {
   "cell_type": "markdown",
   "id": "8ad97113-4826-49d4-91a1-6cf33bd1086a",
   "metadata": {
    "tags": []
   },
   "source": [
    "# Proposal video\n",
    "\n",
    "In the following video, we iteratively apply `update_trajectory` to the SI events, and look for random walk behaviour of the overall stochastic process trajectory. "
   ]
  },
  {
   "cell_type": "code",
   "execution_count": 7,
   "id": "da98387c-516b-445a-804c-1024b44fee84",
   "metadata": {},
   "outputs": [],
   "source": [
    "def make_chart_func(initial_events, model):\n",
    "    \n",
    "    fig, ax = plt.subplots()\n",
    "    lineS, = ax.plot([], color='C0', label='S')\n",
    "    lineI, = ax.plot([], color='C1', label='I')\n",
    "    lineR, = ax.plot([], color='C2', label='R')\n",
    "    ax.set_xlim(0, initial_events.shape[-2])\n",
    "    ax.set_ylim(0, 1100)\n",
    "    \n",
    "    events = initial_events\n",
    "    \n",
    "    def chartfunc(t):\n",
    "        nonlocal events\n",
    "        events, info = chain_binomial_rippler(model, events)\n",
    "        ax.set_title(f\"Frame: {t}, t_idx: {info['timepoint']}, delta: {info['delta']}\")\n",
    "        new_state = compute_state(initial_state=model.initial_state, \n",
    "                                  events=events, \n",
    "                                  stoichiometry=model.stoichiometry)\n",
    "        lineS.set_data((np.arange(new_state.shape[-2]), new_state[0,...,0]))\n",
    "        lineI.set_data((np.arange(new_state.shape[-2]), new_state[0,...,1]))\n",
    "        lineR.set_data((np.arange(new_state.shape[-2]), new_state[0,...,2]))   \n",
    "    return fig, chartfunc"
   ]
  },
  {
   "cell_type": "code",
   "execution_count": 8,
   "id": "9d542e53-63ef-4370-8e45-84f663f28290",
   "metadata": {},
   "outputs": [],
   "source": [
    "# This code is time-consuming, so only un-comment if you wish to see the video.\n",
    "# import matplotlib.animation as ani\n",
    "\n",
    "# fig, chartfunc = make_chart_func(events, model)\n",
    "# anim = ani.FuncAnimation(fig, chartfunc, frames=500, interval=40)\n",
    "# HTML(anim.to_html5_video())"
   ]
  },
  {
   "cell_type": "markdown",
   "id": "fb92f11e-268e-4694-ae8b-d5b1c8f60bee",
   "metadata": {},
   "source": [
    "### Embedding the CBR in an MCMC algorithm\n",
    "\n",
    "First we embed the CBR within a derivation of `tfp.mcmc.TransitionKernel`:"
   ]
  },
  {
   "cell_type": "code",
   "execution_count": 9,
   "id": "1c3e6557-7b73-4660-880c-65b6d840094a",
   "metadata": {},
   "outputs": [],
   "source": [
    "from tensorflow_probability.python.mcmc.internal import util as mcmc_util\n",
    "from tensorflow_probability.python.internal import samplers\n",
    "\n",
    "CBRResults = namedtuple(\"CBRResults\", [\"target_log_prob\", \n",
    "                                       \"is_accepted\", \n",
    "                                       \"delta\", \n",
    "                                       \"current_state_t\", \n",
    "                                       \"initial_ripple\", \n",
    "                                       \"timepoint\", \n",
    "                                       \"seed\"])\n",
    "\n",
    "class CBRKernel(tfp.mcmc.TransitionKernel):\n",
    "    \n",
    "    def __init__(self, target_log_prob_fn, model, name=None):\n",
    "        \n",
    "        self._target_log_prob_fn = target_log_prob_fn\n",
    "        self._model = model\n",
    "        \n",
    "        name = mcmc_util.make_name(\n",
    "                name, \"CBRKernel\", \"\"\n",
    "            )\n",
    "\n",
    "        self._parameters = dict(\n",
    "            target_log_prob_fn=target_log_prob_fn,\n",
    "            model=model,\n",
    "            name=name,\n",
    "        )\n",
    "\n",
    "    @property\n",
    "    def is_calibrated(self):\n",
    "        return True\n",
    "    \n",
    "    @property\n",
    "    def target_log_prob(self):\n",
    "        return self._target_log_prob_fn\n",
    "    \n",
    "    @property\n",
    "    def model(self):\n",
    "        return self._model\n",
    "    \n",
    "    @property\n",
    "    def name(self):\n",
    "        return self._parameters.name\n",
    "\n",
    "    def one_step(self, current_state, previous_results, seed=None):\n",
    "        \n",
    "        with tf.name_scope(\"CBRKernel/one_step\"):\n",
    "            seed = samplers.sanitize_seed(seed, salt=\"cbr_kernel\")\n",
    "            \n",
    "            proposed_state, proposal_trace = chain_binomial_rippler(model, current_state, seed=seed)\n",
    "        \n",
    "            proposed_target_log_prob = self.target_log_prob(proposed_state)\n",
    "        \n",
    "            delta_logp = proposed_target_log_prob - previous_results.target_log_prob\n",
    "        \n",
    "            def accept():\n",
    "                return proposed_state, CBRResults(target_log_prob=proposed_target_log_prob,\n",
    "                                                  is_accepted=tf.constant(True),\n",
    "                                                  delta=proposal_trace['delta'],\n",
    "                                                  current_state_t=proposal_trace['current_state_t'],\n",
    "                                                  initial_ripple=proposal_trace['initial_ripple'],\n",
    "                                                  timepoint=proposal_trace['timepoint'],\n",
    "                                                  seed=seed)\n",
    "\n",
    "            def reject():\n",
    "                return current_state, CBRResults(target_log_prob=previous_results.target_log_prob,\n",
    "                                                 is_accepted=tf.constant(False),\n",
    "                                                 delta=proposal_trace['delta'],\n",
    "                                                 current_state_t=proposal_trace['current_state_t'],\n",
    "                                                 initial_ripple=proposal_trace['initial_ripple'],\n",
    "                                                 timepoint=proposal_trace['timepoint'],\n",
    "                                                 seed=seed)\n",
    "        \n",
    "            u = tf.math.log(tfd.Uniform().sample())\n",
    "            return tf.cond(u < delta_logp,\n",
    "                           accept,\n",
    "                           reject)\n",
    "    \n",
    "    def bootstrap_results(self, current_state):\n",
    "        with tf.name_scope(\"CBRKernel/bootstrap_results\"):\n",
    "            return CBRResults(target_log_prob=self.target_log_prob(current_state),\n",
    "                              is_accepted=tf.constant(False),\n",
    "                              delta=tf.zeros((1,2), current_state.dtype),\n",
    "                              current_state_t=tf.zeros([current_state.shape[-3], self.model.stoichiometry.shape[-1]], current_state.dtype),\n",
    "                              initial_ripple=tf.zeros((2, 1), current_state.dtype),\n",
    "                              timepoint=tf.constant(0, dtype=tf.int32),\n",
    "                              seed=samplers.zeros_seed(),\n",
    "                             )"
   ]
  },
  {
   "cell_type": "markdown",
   "id": "3a971d33-cc29-48ac-9e86-30ad4005f697",
   "metadata": {},
   "source": [
    "We then set up our `target_log_prob_fn` to incorporate our observation\n",
    "model and simulated observed data. Note we need to reconstruct the \n",
    "observation Binomial random variable, as we must condition on the current \n",
    "MCMC state `current_events` (not to be confused with the epidemic \n",
    "state $\\mathbf{X}$!).  Then build and sample using `CBRKernel`: "
   ]
  },
  {
   "cell_type": "code",
   "execution_count": 10,
   "id": "e096e2be-c11e-4a6e-bc45-0a919124e747",
   "metadata": {},
   "outputs": [
    {
     "name": "stdout",
     "output_type": "stream",
     "text": [
      "WARNING:tensorflow:@custom_gradient grad_fn has 'variables' in signature, but no ResourceVariables were used on the forward pass.\n",
      "proposed_pop_idxtransition_rates: Tensor(\"mcmc_sample_chain/trace_scan/while/smart_for_loop/while/CBRKernel/one_step/mcmc_sample_chain_trace_scan_while_smart_for_loop_while_CBRKernel_one_step_UniformInteger_1/sample/Reshape:0\", shape=(), dtype=int32)\n",
      "proposed_time_idx: Tensor(\"mcmc_sample_chain/trace_scan/while/smart_for_loop/while/CBRKernel/one_step/mcmc_sample_chain_trace_scan_while_smart_for_loop_while_CBRKernel_one_step_UniformInteger/sample/Reshape:0\", shape=(), dtype=int32)\n",
      "Prob_t: Tensor(\"mcmc_sample_chain/trace_scan/while/smart_for_loop/while/CBRKernel/one_step/sub:0\", shape=(), dtype=float32)\n"
     ]
    },
    {
     "name": "stderr",
     "output_type": "stream",
     "text": [
      "/home/jewellcp/Documents/Projects/bp_add_delete/.venv/lib/python3.8/site-packages/tensorflow_probability/python/mcmc/sample.py:342: UserWarning: Tracing all kernel results by default is deprecated. Set the `trace_fn` argument to None (the future default value) or an explicit callback that traces the values you are interested in.\n",
      "  warnings.warn('Tracing all kernel results by default is deprecated. Set '\n"
     ]
    },
    {
     "name": "stdout",
     "output_type": "stream",
     "text": [
      "new_si_events_t: Tensor(\"mcmc_sample_chain/trace_scan/while/smart_for_loop/while/CBRKernel/one_step/mcmc_sample_chain_trace_scan_while_smart_for_loop_while_CBRKernel_one_step_Binomial/sample/Reshape:0\", shape=(), dtype=float32)\n",
      "WARNING:tensorflow:Using a while_loop for converting StatelessRandomGetKeyCounter\n",
      "WARNING:tensorflow:Using a while_loop for converting StatelessRandomUniformFullIntV2\n",
      "WARNING:tensorflow:Using a while_loop for converting StatelessCase\n",
      "WARNING:tensorflow:Using a while_loop for converting StatelessCase\n"
     ]
    },
    {
     "ename": "ValueError",
     "evalue": "in user code:\n\n    File \"/tmp/ipykernel_66938/3037303845.py\", line 10, in sample  *\n        return tfp.mcmc.sample_chain(num_results=num_results,\n    File \"/home/jewellcp/Documents/Projects/bp_add_delete/.venv/lib/python3.8/site-packages/tensorflow_probability/python/mcmc/sample.py\", line 362, in sample_chain  **\n        (_, _, final_kernel_results), (all_states, trace) = mcmc_util.trace_scan(\n    File \"/home/jewellcp/Documents/Projects/bp_add_delete/.venv/lib/python3.8/site-packages/tensorflow_probability/python/mcmc/internal/util.py\", line 491, in trace_scan\n        _, final_state, _, trace_arrays = tf.while_loop(\n    File \"/home/jewellcp/Documents/Projects/bp_add_delete/.venv/lib/python3.8/site-packages/tensorflow_probability/python/mcmc/internal/util.py\", line 476, in _body\n        state = loop_fn(state, elem)\n    File \"/home/jewellcp/Documents/Projects/bp_add_delete/.venv/lib/python3.8/site-packages/tensorflow_probability/python/mcmc/sample.py\", line 355, in _trace_scan_fn\n        seed, next_state, current_kernel_results = mcmc_util.smart_for_loop(\n    File \"/home/jewellcp/Documents/Projects/bp_add_delete/.venv/lib/python3.8/site-packages/tensorflow_probability/python/mcmc/internal/util.py\", line 362, in smart_for_loop\n        return tf.while_loop(\n\n    ValueError: Input tensor `mcmc_sample_chain/trace_scan/while/Placeholder_5:0` enters the loop with shape (1, 2), but has shape (2, 2) after one iteration. To allow the shape to vary across iterations, use the `shape_invariants` argument of tf.while_loop to specify a less-specific shape.\n",
     "output_type": "error",
     "traceback": [
      "\u001b[0;31m---------------------------------------------------------------------------\u001b[0m",
      "\u001b[0;31mValueError\u001b[0m                                Traceback (most recent call last)",
      "\u001b[0;32m/tmp/ipykernel_66938/3037303845.py\u001b[0m in \u001b[0;36m<module>\u001b[0;34m\u001b[0m\n\u001b[1;32m     12\u001b[0m                                  kernel=kernel)\n\u001b[1;32m     13\u001b[0m \u001b[0;34m\u001b[0m\u001b[0m\n\u001b[0;32m---> 14\u001b[0;31m \u001b[0msamples\u001b[0m\u001b[0;34m,\u001b[0m \u001b[0mresults\u001b[0m \u001b[0;34m=\u001b[0m \u001b[0msample\u001b[0m\u001b[0;34m(\u001b[0m\u001b[0mtf\u001b[0m\u001b[0;34m.\u001b[0m\u001b[0mconstant\u001b[0m\u001b[0;34m(\u001b[0m\u001b[0;36m2\u001b[0m\u001b[0;34m)\u001b[0m\u001b[0;34m)\u001b[0m \u001b[0;31m# Compile graph\u001b[0m\u001b[0;34m\u001b[0m\u001b[0;34m\u001b[0m\u001b[0m\n\u001b[0m\u001b[1;32m     15\u001b[0m \u001b[0;34m\u001b[0m\u001b[0m\n\u001b[1;32m     16\u001b[0m \u001b[0mnsamples\u001b[0m \u001b[0;34m=\u001b[0m \u001b[0;36m5000\u001b[0m\u001b[0;34m\u001b[0m\u001b[0;34m\u001b[0m\u001b[0m\n",
      "\u001b[0;32m~/Documents/Projects/bp_add_delete/.venv/lib/python3.8/site-packages/tensorflow/python/util/traceback_utils.py\u001b[0m in \u001b[0;36merror_handler\u001b[0;34m(*args, **kwargs)\u001b[0m\n\u001b[1;32m    151\u001b[0m     \u001b[0;32mexcept\u001b[0m \u001b[0mException\u001b[0m \u001b[0;32mas\u001b[0m \u001b[0me\u001b[0m\u001b[0;34m:\u001b[0m\u001b[0;34m\u001b[0m\u001b[0;34m\u001b[0m\u001b[0m\n\u001b[1;32m    152\u001b[0m       \u001b[0mfiltered_tb\u001b[0m \u001b[0;34m=\u001b[0m \u001b[0m_process_traceback_frames\u001b[0m\u001b[0;34m(\u001b[0m\u001b[0me\u001b[0m\u001b[0;34m.\u001b[0m\u001b[0m__traceback__\u001b[0m\u001b[0;34m)\u001b[0m\u001b[0;34m\u001b[0m\u001b[0;34m\u001b[0m\u001b[0m\n\u001b[0;32m--> 153\u001b[0;31m       \u001b[0;32mraise\u001b[0m \u001b[0me\u001b[0m\u001b[0;34m.\u001b[0m\u001b[0mwith_traceback\u001b[0m\u001b[0;34m(\u001b[0m\u001b[0mfiltered_tb\u001b[0m\u001b[0;34m)\u001b[0m \u001b[0;32mfrom\u001b[0m \u001b[0;32mNone\u001b[0m\u001b[0;34m\u001b[0m\u001b[0;34m\u001b[0m\u001b[0m\n\u001b[0m\u001b[1;32m    154\u001b[0m     \u001b[0;32mfinally\u001b[0m\u001b[0;34m:\u001b[0m\u001b[0;34m\u001b[0m\u001b[0;34m\u001b[0m\u001b[0m\n\u001b[1;32m    155\u001b[0m       \u001b[0;32mdel\u001b[0m \u001b[0mfiltered_tb\u001b[0m\u001b[0;34m\u001b[0m\u001b[0;34m\u001b[0m\u001b[0m\n",
      "\u001b[0;32m~/Documents/Projects/bp_add_delete/.venv/lib/python3.8/site-packages/tensorflow/python/framework/func_graph.py\u001b[0m in \u001b[0;36mautograph_handler\u001b[0;34m(*args, **kwargs)\u001b[0m\n\u001b[1;32m   1127\u001b[0m           \u001b[0;32mexcept\u001b[0m \u001b[0mException\u001b[0m \u001b[0;32mas\u001b[0m \u001b[0me\u001b[0m\u001b[0;34m:\u001b[0m  \u001b[0;31m# pylint:disable=broad-except\u001b[0m\u001b[0;34m\u001b[0m\u001b[0;34m\u001b[0m\u001b[0m\n\u001b[1;32m   1128\u001b[0m             \u001b[0;32mif\u001b[0m \u001b[0mhasattr\u001b[0m\u001b[0;34m(\u001b[0m\u001b[0me\u001b[0m\u001b[0;34m,\u001b[0m \u001b[0;34m\"ag_error_metadata\"\u001b[0m\u001b[0;34m)\u001b[0m\u001b[0;34m:\u001b[0m\u001b[0;34m\u001b[0m\u001b[0;34m\u001b[0m\u001b[0m\n\u001b[0;32m-> 1129\u001b[0;31m               \u001b[0;32mraise\u001b[0m \u001b[0me\u001b[0m\u001b[0;34m.\u001b[0m\u001b[0mag_error_metadata\u001b[0m\u001b[0;34m.\u001b[0m\u001b[0mto_exception\u001b[0m\u001b[0;34m(\u001b[0m\u001b[0me\u001b[0m\u001b[0;34m)\u001b[0m\u001b[0;34m\u001b[0m\u001b[0;34m\u001b[0m\u001b[0m\n\u001b[0m\u001b[1;32m   1130\u001b[0m             \u001b[0;32melse\u001b[0m\u001b[0;34m:\u001b[0m\u001b[0;34m\u001b[0m\u001b[0;34m\u001b[0m\u001b[0m\n\u001b[1;32m   1131\u001b[0m               \u001b[0;32mraise\u001b[0m\u001b[0;34m\u001b[0m\u001b[0;34m\u001b[0m\u001b[0m\n",
      "\u001b[0;31mValueError\u001b[0m: in user code:\n\n    File \"/tmp/ipykernel_66938/3037303845.py\", line 10, in sample  *\n        return tfp.mcmc.sample_chain(num_results=num_results,\n    File \"/home/jewellcp/Documents/Projects/bp_add_delete/.venv/lib/python3.8/site-packages/tensorflow_probability/python/mcmc/sample.py\", line 362, in sample_chain  **\n        (_, _, final_kernel_results), (all_states, trace) = mcmc_util.trace_scan(\n    File \"/home/jewellcp/Documents/Projects/bp_add_delete/.venv/lib/python3.8/site-packages/tensorflow_probability/python/mcmc/internal/util.py\", line 491, in trace_scan\n        _, final_state, _, trace_arrays = tf.while_loop(\n    File \"/home/jewellcp/Documents/Projects/bp_add_delete/.venv/lib/python3.8/site-packages/tensorflow_probability/python/mcmc/internal/util.py\", line 476, in _body\n        state = loop_fn(state, elem)\n    File \"/home/jewellcp/Documents/Projects/bp_add_delete/.venv/lib/python3.8/site-packages/tensorflow_probability/python/mcmc/sample.py\", line 355, in _trace_scan_fn\n        seed, next_state, current_kernel_results = mcmc_util.smart_for_loop(\n    File \"/home/jewellcp/Documents/Projects/bp_add_delete/.venv/lib/python3.8/site-packages/tensorflow_probability/python/mcmc/internal/util.py\", line 362, in smart_for_loop\n        return tf.while_loop(\n\n    ValueError: Input tensor `mcmc_sample_chain/trace_scan/while/Placeholder_5:0` enters the loop with shape (1, 2), but has shape (2, 2) after one iteration. To allow the shape to vary across iterations, use the `shape_invariants` argument of tf.while_loop to specify a less-specific shape.\n"
     ]
    }
   ],
   "source": [
    "def tlp_fn(current_events):\n",
    "    observation_process = tfd.Binomial(total_count=current_events[...,1],\n",
    "                                       probs=0.5)\n",
    "    return tf.reduce_sum(observation_process.log_prob(observed_cases))\n",
    "\n",
    "kernel = CBRKernel(target_log_prob_fn=tlp_fn, model=model, name='MyKernel')\n",
    "\n",
    "@tf.function(jit_compile=False)\n",
    "def sample(num_results):\n",
    "    return tfp.mcmc.sample_chain(num_results=num_results, \n",
    "                                 current_state=tf.convert_to_tensor(events, name=\"initial_state\"),\n",
    "                                 kernel=kernel)\n",
    "\n",
    "samples, results = sample(tf.constant(2)) # Compile graph\n",
    "\n",
    "nsamples = 5000\n",
    "with tf.device(\"CPU\"):\n",
    "    start = perf_counter()\n",
    "    #tf.profiler.experimental.start(\"tf_logdir\")\n",
    "    samples, results = sample(tf.constant(nsamples))\n",
    "    #tf.profiler.experimental.stop()\n",
    "    end = perf_counter()\n",
    "\n",
    "print(\"Mean it/s:\", nsamples/(end-start))\n",
    "print(\"Acceptance:\", np.mean(results.is_accepted))"
   ]
  },
  {
   "cell_type": "markdown",
   "id": "6f44b79d-1611-4652-a3f4-7b778782b09a",
   "metadata": {},
   "source": [
    "## Plot traces"
   ]
  },
  {
   "cell_type": "code",
   "execution_count": null,
   "id": "92d35fbc-1bce-4ab3-b669-3af1ebd247e4",
   "metadata": {},
   "outputs": [],
   "source": [
    "plt.plot(samples[::20, 0, :, 0].numpy().T, alpha=0.05, color='pink')\n",
    "plt.plot(events[0, :, 0].numpy(), color='red', label=\"S->I\")\n",
    "plt.plot(samples[::20, 0, :, 1].numpy().T, alpha=0.05, color='lightblue')\n",
    "plt.plot(events[0, :, 1].numpy(), color='C0', label=\"I->R\")\n",
    "plt.plot(range(samples.shape[-2]), observed_cases[0]*2, '.', label='observed/0.5')\n",
    "\n",
    "plt.legend()\n",
    ";"
   ]
  },
  {
   "cell_type": "code",
   "execution_count": null,
   "id": "49507db7-b955-46a8-9a8f-6505ea44f50b",
   "metadata": {},
   "outputs": [],
   "source": [
    "# Traceplot of number of I->R events at time 0 \n",
    "plt.plot(samples[:, 0, 25, 1])"
   ]
  },
  {
   "cell_type": "markdown",
   "id": "d632c7e4-6da1-4ccf-88f8-a745fd764a11",
   "metadata": {},
   "source": [
    "Calculate the proportion of proposals resulting in no move, i.e. $\\Delta z_t = 0$"
   ]
  },
  {
   "cell_type": "code",
   "execution_count": null,
   "id": "bed55bc3-7ca7-4978-9a77-86ea6b85434d",
   "metadata": {},
   "outputs": [],
   "source": [
    "np.mean(results.delta[:, 0, 0] == 0.0)"
   ]
  },
  {
   "cell_type": "markdown",
   "id": "1dccea62-f9da-4753-ac84-ae5968bb11eb",
   "metadata": {},
   "source": [
    "but the acceptance rate for moves where $\\delta_{si} \\ne 0$ is reasonably high"
   ]
  },
  {
   "cell_type": "code",
   "execution_count": null,
   "id": "7511164a-2f16-45de-b971-0153d9806f18",
   "metadata": {},
   "outputs": [],
   "source": [
    "np.mean(results.is_accepted[results.delta[:, 0, 0] != 0])"
   ]
  },
  {
   "cell_type": "markdown",
   "id": "dab15ec7-f040-48d7-a6c3-c2a15f0456be",
   "metadata": {},
   "source": [
    "__Conclusion__: We may need a way of creating a bigger initial perturbation."
   ]
  }
 ],
 "metadata": {
  "kernelspec": {
   "display_name": "Python 3 (ipykernel)",
   "language": "python",
   "name": "python3"
  },
  "language_info": {
   "codemirror_mode": {
    "name": "ipython",
    "version": 3
   },
   "file_extension": ".py",
   "mimetype": "text/x-python",
   "name": "python",
   "nbconvert_exporter": "python",
   "pygments_lexer": "ipython3",
   "version": "3.8.12"
  }
 },
 "nbformat": 4,
 "nbformat_minor": 5
}
